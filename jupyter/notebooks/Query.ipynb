{
 "cells": [
  {
   "cell_type": "code",
   "execution_count": 1,
   "id": "8c677fec",
   "metadata": {},
   "outputs": [],
   "source": [
    "import datacube\n",
    "import matplotlib.pyplot as plt\n",
    "\n",
    "product_name = 'aerial_image_1999'\n",
    "\n",
    "query = {\n",
    "    'time': ('1999-01-01', '2004-12-31'),\n",
    "    'latitude': ( -19.909769510495842, -19.937043958977434),\n",
    "    'longitude': ( -43.9339828491211, -43.96745681762696),\n",
    "}\n",
    "\n",
    "bands = ['band_1', 'band_2', 'band_3'] \n"
   ]
  },
  {
   "cell_type": "code",
   "execution_count": 2,
   "id": "0f0c91c0",
   "metadata": {},
   "outputs": [
    {
     "ename": "LookupError",
     "evalue": "('Unknown arguments: ', {'time'})",
     "output_type": "error",
     "traceback": [
      "\u001b[0;31m---------------------------------------------------------------------------\u001b[0m",
      "\u001b[0;31mLookupError\u001b[0m                               Traceback (most recent call last)",
      "Cell \u001b[0;32mIn[2], line 8\u001b[0m\n\u001b[1;32m      5\u001b[0m output_crs \u001b[38;5;241m=\u001b[39m \u001b[38;5;124m'\u001b[39m\u001b[38;5;124mEPSG:29193\u001b[39m\u001b[38;5;124m'\u001b[39m\n\u001b[1;32m      6\u001b[0m resolution\u001b[38;5;241m=\u001b[39m(\u001b[38;5;241m-\u001b[39m\u001b[38;5;241m0.399711\u001b[39m, \u001b[38;5;241m0.399711\u001b[39m)\n\u001b[0;32m----> 8\u001b[0m ds \u001b[38;5;241m=\u001b[39m \u001b[43mdc\u001b[49m\u001b[38;5;241;43m.\u001b[39;49m\u001b[43mload\u001b[49m\u001b[43m(\u001b[49m\u001b[43mproduct\u001b[49m\u001b[38;5;241;43m=\u001b[39;49m\u001b[43mproduct_name\u001b[49m\u001b[43m,\u001b[49m\u001b[43m \u001b[49m\u001b[43moutput_crs\u001b[49m\u001b[38;5;241;43m=\u001b[39;49m\u001b[43moutput_crs\u001b[49m\u001b[43m,\u001b[49m\u001b[43m \u001b[49m\u001b[43mresolution\u001b[49m\u001b[38;5;241;43m=\u001b[39;49m\u001b[43mresolution\u001b[49m\u001b[43m,\u001b[49m\u001b[43m \u001b[49m\u001b[38;5;241;43m*\u001b[39;49m\u001b[38;5;241;43m*\u001b[39;49m\u001b[43mquery\u001b[49m\u001b[43m)\u001b[49m\n\u001b[1;32m     10\u001b[0m \u001b[38;5;28mprint\u001b[39m(ds)\n",
      "File \u001b[0;32m/usr/local/lib/python3.10/dist-packages/datacube/api/core.py:407\u001b[0m, in \u001b[0;36mDatacube.load\u001b[0;34m(self, product, measurements, output_crs, resolution, resampling, skip_broken_datasets, dask_chunks, like, fuse_func, align, datasets, dataset_predicate, progress_cbk, patch_url, **query)\u001b[0m\n\u001b[1;32m    404\u001b[0m     \u001b[38;5;28;01mraise\u001b[39;00m \u001b[38;5;167;01mValueError\u001b[39;00m(\u001b[38;5;124m\"\u001b[39m\u001b[38;5;124mMust specify a product or supply datasets\u001b[39m\u001b[38;5;124m\"\u001b[39m)\n\u001b[1;32m    406\u001b[0m \u001b[38;5;28;01mif\u001b[39;00m datasets \u001b[38;5;129;01mis\u001b[39;00m \u001b[38;5;28;01mNone\u001b[39;00m:\n\u001b[0;32m--> 407\u001b[0m     datasets \u001b[38;5;241m=\u001b[39m \u001b[38;5;28;43mself\u001b[39;49m\u001b[38;5;241;43m.\u001b[39;49m\u001b[43mfind_datasets\u001b[49m\u001b[43m(\u001b[49m\u001b[43mproduct\u001b[49m\u001b[38;5;241;43m=\u001b[39;49m\u001b[43mproduct\u001b[49m\u001b[43m,\u001b[49m\n\u001b[1;32m    408\u001b[0m \u001b[43m                                  \u001b[49m\u001b[43mlike\u001b[49m\u001b[38;5;241;43m=\u001b[39;49m\u001b[43mlike\u001b[49m\u001b[43m,\u001b[49m\n\u001b[1;32m    409\u001b[0m \u001b[43m                                  \u001b[49m\u001b[43mensure_location\u001b[49m\u001b[38;5;241;43m=\u001b[39;49m\u001b[38;5;28;43;01mTrue\u001b[39;49;00m\u001b[43m,\u001b[49m\n\u001b[1;32m    410\u001b[0m \u001b[43m                                  \u001b[49m\u001b[43mdataset_predicate\u001b[49m\u001b[38;5;241;43m=\u001b[39;49m\u001b[43mdataset_predicate\u001b[49m\u001b[43m,\u001b[49m\n\u001b[1;32m    411\u001b[0m \u001b[43m                                  \u001b[49m\u001b[38;5;241;43m*\u001b[39;49m\u001b[38;5;241;43m*\u001b[39;49m\u001b[43mquery\u001b[49m\u001b[43m)\u001b[49m\n\u001b[1;32m    412\u001b[0m \u001b[38;5;28;01melif\u001b[39;00m \u001b[38;5;28misinstance\u001b[39m(datasets, collections\u001b[38;5;241m.\u001b[39mabc\u001b[38;5;241m.\u001b[39mIterator):\n\u001b[1;32m    413\u001b[0m     datasets \u001b[38;5;241m=\u001b[39m \u001b[38;5;28mlist\u001b[39m(datasets)\n",
      "File \u001b[0;32m/usr/local/lib/python3.10/dist-packages/datacube/api/core.py:470\u001b[0m, in \u001b[0;36mDatacube.find_datasets\u001b[0;34m(self, **search_terms)\u001b[0m\n\u001b[1;32m    460\u001b[0m \u001b[38;5;28;01mdef\u001b[39;00m \u001b[38;5;21mfind_datasets\u001b[39m(\u001b[38;5;28mself\u001b[39m, \u001b[38;5;241m*\u001b[39m\u001b[38;5;241m*\u001b[39msearch_terms):\n\u001b[1;32m    461\u001b[0m \u001b[38;5;250m    \u001b[39m\u001b[38;5;124;03m\"\"\"\u001b[39;00m\n\u001b[1;32m    462\u001b[0m \u001b[38;5;124;03m    Search the index and return all datasets for a product matching the search terms.\u001b[39;00m\n\u001b[1;32m    463\u001b[0m \n\u001b[0;32m   (...)\u001b[0m\n\u001b[1;32m    468\u001b[0m \u001b[38;5;124;03m    .. seealso:: :meth:`group_datasets` :meth:`load_data` :meth:`find_datasets_lazy`\u001b[39;00m\n\u001b[1;32m    469\u001b[0m \u001b[38;5;124;03m    \"\"\"\u001b[39;00m\n\u001b[0;32m--> 470\u001b[0m     \u001b[38;5;28;01mreturn\u001b[39;00m \u001b[38;5;28mlist\u001b[39m(\u001b[38;5;28;43mself\u001b[39;49m\u001b[38;5;241;43m.\u001b[39;49m\u001b[43mfind_datasets_lazy\u001b[49m\u001b[43m(\u001b[49m\u001b[38;5;241;43m*\u001b[39;49m\u001b[38;5;241;43m*\u001b[39;49m\u001b[43msearch_terms\u001b[49m\u001b[43m)\u001b[49m)\n",
      "File \u001b[0;32m/usr/local/lib/python3.10/dist-packages/datacube/api/core.py:485\u001b[0m, in \u001b[0;36mDatacube.find_datasets_lazy\u001b[0;34m(self, limit, ensure_location, dataset_predicate, **kwargs)\u001b[0m\n\u001b[1;32m    472\u001b[0m \u001b[38;5;28;01mdef\u001b[39;00m \u001b[38;5;21mfind_datasets_lazy\u001b[39m(\u001b[38;5;28mself\u001b[39m, limit\u001b[38;5;241m=\u001b[39m\u001b[38;5;28;01mNone\u001b[39;00m, ensure_location\u001b[38;5;241m=\u001b[39m\u001b[38;5;28;01mFalse\u001b[39;00m, dataset_predicate\u001b[38;5;241m=\u001b[39m\u001b[38;5;28;01mNone\u001b[39;00m, \u001b[38;5;241m*\u001b[39m\u001b[38;5;241m*\u001b[39mkwargs):\n\u001b[1;32m    473\u001b[0m \u001b[38;5;250m    \u001b[39m\u001b[38;5;124;03m\"\"\"\u001b[39;00m\n\u001b[1;32m    474\u001b[0m \u001b[38;5;124;03m    Find datasets matching query.\u001b[39;00m\n\u001b[1;32m    475\u001b[0m \n\u001b[0;32m   (...)\u001b[0m\n\u001b[1;32m    483\u001b[0m \u001b[38;5;124;03m    .. seealso:: :meth:`group_datasets` :meth:`load_data` :meth:`find_datasets`\u001b[39;00m\n\u001b[1;32m    484\u001b[0m \u001b[38;5;124;03m    \"\"\"\u001b[39;00m\n\u001b[0;32m--> 485\u001b[0m     query \u001b[38;5;241m=\u001b[39m \u001b[43mQuery\u001b[49m\u001b[43m(\u001b[49m\u001b[38;5;28;43mself\u001b[39;49m\u001b[38;5;241;43m.\u001b[39;49m\u001b[43mindex\u001b[49m\u001b[43m,\u001b[49m\u001b[43m \u001b[49m\u001b[38;5;241;43m*\u001b[39;49m\u001b[38;5;241;43m*\u001b[39;49m\u001b[43mkwargs\u001b[49m\u001b[43m)\u001b[49m\n\u001b[1;32m    486\u001b[0m     \u001b[38;5;28;01mif\u001b[39;00m \u001b[38;5;129;01mnot\u001b[39;00m query\u001b[38;5;241m.\u001b[39mproduct:\n\u001b[1;32m    487\u001b[0m         \u001b[38;5;28;01mraise\u001b[39;00m \u001b[38;5;167;01mValueError\u001b[39;00m(\u001b[38;5;124m\"\u001b[39m\u001b[38;5;124mmust specify a product\u001b[39m\u001b[38;5;124m\"\u001b[39m)\n",
      "File \u001b[0;32m/usr/local/lib/python3.10/dist-packages/datacube/api/query.py:116\u001b[0m, in \u001b[0;36mQuery.__init__\u001b[0;34m(self, index, product, geopolygon, like, **search_terms)\u001b[0m\n\u001b[1;32m    114\u001b[0m     \u001b[38;5;66;03m# TODO: What about keys source filters, and what if the keys don't match up with this product...\u001b[39;00m\n\u001b[1;32m    115\u001b[0m     \u001b[38;5;28;01mif\u001b[39;00m unknown_keys:\n\u001b[0;32m--> 116\u001b[0m         \u001b[38;5;28;01mraise\u001b[39;00m \u001b[38;5;167;01mLookupError\u001b[39;00m(\u001b[38;5;124m'\u001b[39m\u001b[38;5;124mUnknown arguments: \u001b[39m\u001b[38;5;124m'\u001b[39m, unknown_keys)\n\u001b[1;32m    118\u001b[0m \u001b[38;5;28mself\u001b[39m\u001b[38;5;241m.\u001b[39msearch \u001b[38;5;241m=\u001b[39m {}\n\u001b[1;32m    119\u001b[0m \u001b[38;5;28;01mfor\u001b[39;00m key \u001b[38;5;129;01min\u001b[39;00m remaining_keys:\n",
      "\u001b[0;31mLookupError\u001b[0m: ('Unknown arguments: ', {'time'})"
     ]
    }
   ],
   "source": [
    "\n",
    "\n",
    "dc = datacube.Datacube()\n",
    "dc.index.products.get_by_name(product_name)\n",
    "\n",
    "\n",
    "output_crs = 'EPSG:29193'\n",
    "resolution=(-0.399711, 0.399711)\n",
    "\n",
    "ds = dc.load(product=product_name, output_crs=output_crs, resolution=resolution, **query)\n",
    "\n",
    "print(ds)\n"
   ]
  },
  {
   "cell_type": "code",
   "execution_count": null,
   "id": "85b751a0",
   "metadata": {},
   "outputs": [],
   "source": [
    "# Selecione as bandas desejadas\n",
    "rgb_bands = ds[['band_1', 'band_2', 'band_3']]\n",
    "\n",
    "available_times = ds.time.values\n",
    "print(available_times)\n",
    "\n",
    "# Especifique o tempo desejado (por exemplo, o primeiro tempo no conjunto de dados)\n",
    "time_index = 0\n",
    "\n",
    "# Selecione os dados para o tempo específico\n",
    "rgb_data = rgb_bands.isel(time=time_index).to_array().transpose('y', 'x', 'variable')\n",
    "\n",
    "# Aumente o tamanho do plot\n",
    "plt.figure(figsize=(10, 8))  # Ajuste os valores de largura e altura conforme necessário\n",
    "\n",
    "# Plote a imagem RGB\n",
    "rgb_data.plot.imshow(robust=True)\n",
    "plt.title(f'RGB Image at {ds[\"time\"].values[time_index]}')\n",
    "plt.show()\n"
   ]
  },
  {
   "cell_type": "code",
   "execution_count": null,
   "id": "de3ade48",
   "metadata": {},
   "outputs": [],
   "source": []
  },
  {
   "cell_type": "code",
   "execution_count": null,
   "id": "0a60d5cd",
   "metadata": {},
   "outputs": [],
   "source": []
  }
 ],
 "metadata": {
  "kernelspec": {
   "display_name": "Python 3 (ipykernel)",
   "language": "python",
   "name": "python3"
  },
  "language_info": {
   "codemirror_mode": {
    "name": "ipython",
    "version": 3
   },
   "file_extension": ".py",
   "mimetype": "text/x-python",
   "name": "python",
   "nbconvert_exporter": "python",
   "pygments_lexer": "ipython3",
   "version": "3.10.12"
  }
 },
 "nbformat": 4,
 "nbformat_minor": 5
}

{
 "cells": [
  {
   "cell_type": "code",
   "execution_count": 1,
   "id": "8c677fec",
   "metadata": {},
   "outputs": [],
   "source": [
    "import datacube\n",
    "import matplotlib.pyplot as plt\n",
    "\n",
    "product_name = 'aerial_image_1999'\n",
    "\n",
    "query = {\n",
    "    'time': ('1999-01-01', '2004-12-31'),\n",
    "    'latitude': ( -19.909769510495842, -19.937043958977434),\n",
    "    'longitude': ( -43.9339828491211, -43.96745681762696),\n",
    "}\n",
    "\n",
    "bands = ['band_1', 'band_2', 'band_3'] \n"
   ]
  },
  {
   "cell_type": "code",
   "execution_count": 2,
   "id": "0f0c91c0",
   "metadata": {},
   "outputs": [
    {
     "name": "stdout",
     "output_type": "stream",
     "text": [
      "<xarray.Dataset>\n",
      "Dimensions:  ()\n",
      "Data variables:\n",
      "    *empty*\n"
     ]
    }
   ],
   "source": [
    "\n",
    "\n",
    "dc = datacube.Datacube()\n",
    "dc.index.products.get_by_name(product_name)\n",
    "\n",
    "\n",
    "output_crs = 'EPSG:29193'\n",
    "resolution=(-0.399711, 0.399711)\n",
    "\n",
    "ds = dc.load(product=product_name, output_crs=output_crs, resolution=resolution, **query)\n",
    "\n",
    "print(ds)\n"
   ]
  },
  {
   "cell_type": "code",
   "execution_count": 3,
   "id": "85b751a0",
   "metadata": {},
   "outputs": [
    {
     "ename": "KeyError",
     "evalue": "'band_1'",
     "output_type": "error",
     "traceback": [
      "\u001b[0;31m---------------------------------------------------------------------------\u001b[0m",
      "\u001b[0;31mKeyError\u001b[0m                                  Traceback (most recent call last)",
      "File \u001b[0;32m/usr/local/lib/python3.10/dist-packages/xarray/core/dataset.py:1134\u001b[0m, in \u001b[0;36mDataset._copy_listed\u001b[0;34m(self, names)\u001b[0m\n\u001b[1;32m   1133\u001b[0m \u001b[38;5;28;01mtry\u001b[39;00m:\n\u001b[0;32m-> 1134\u001b[0m     variables[name] \u001b[38;5;241m=\u001b[39m \u001b[38;5;28;43mself\u001b[39;49m\u001b[38;5;241;43m.\u001b[39;49m\u001b[43m_variables\u001b[49m\u001b[43m[\u001b[49m\u001b[43mname\u001b[49m\u001b[43m]\u001b[49m\n\u001b[1;32m   1135\u001b[0m \u001b[38;5;28;01mexcept\u001b[39;00m \u001b[38;5;167;01mKeyError\u001b[39;00m:\n",
      "\u001b[0;31mKeyError\u001b[0m: 'band_1'",
      "\nDuring handling of the above exception, another exception occurred:\n",
      "\u001b[0;31mKeyError\u001b[0m                                  Traceback (most recent call last)",
      "Cell \u001b[0;32mIn[3], line 2\u001b[0m\n\u001b[1;32m      1\u001b[0m \u001b[38;5;66;03m# Selecione as bandas desejadas\u001b[39;00m\n\u001b[0;32m----> 2\u001b[0m rgb_bands \u001b[38;5;241m=\u001b[39m \u001b[43mds\u001b[49m\u001b[43m[\u001b[49m\u001b[43m[\u001b[49m\u001b[38;5;124;43m'\u001b[39;49m\u001b[38;5;124;43mband_1\u001b[39;49m\u001b[38;5;124;43m'\u001b[39;49m\u001b[43m,\u001b[49m\u001b[43m \u001b[49m\u001b[38;5;124;43m'\u001b[39;49m\u001b[38;5;124;43mband_2\u001b[39;49m\u001b[38;5;124;43m'\u001b[39;49m\u001b[43m,\u001b[49m\u001b[43m \u001b[49m\u001b[38;5;124;43m'\u001b[39;49m\u001b[38;5;124;43mband_3\u001b[39;49m\u001b[38;5;124;43m'\u001b[39;49m\u001b[43m]\u001b[49m\u001b[43m]\u001b[49m\n\u001b[1;32m      4\u001b[0m available_times \u001b[38;5;241m=\u001b[39m ds\u001b[38;5;241m.\u001b[39mtime\u001b[38;5;241m.\u001b[39mvalues\n\u001b[1;32m      5\u001b[0m \u001b[38;5;28mprint\u001b[39m(available_times)\n",
      "File \u001b[0;32m/usr/local/lib/python3.10/dist-packages/xarray/core/dataset.py:1270\u001b[0m, in \u001b[0;36mDataset.__getitem__\u001b[0;34m(self, key)\u001b[0m\n\u001b[1;32m   1268\u001b[0m     \u001b[38;5;28;01mreturn\u001b[39;00m \u001b[38;5;28mself\u001b[39m\u001b[38;5;241m.\u001b[39m_construct_dataarray(key)\n\u001b[1;32m   1269\u001b[0m \u001b[38;5;28;01melse\u001b[39;00m:\n\u001b[0;32m-> 1270\u001b[0m     \u001b[38;5;28;01mreturn\u001b[39;00m \u001b[38;5;28;43mself\u001b[39;49m\u001b[38;5;241;43m.\u001b[39;49m\u001b[43m_copy_listed\u001b[49m\u001b[43m(\u001b[49m\u001b[43mnp\u001b[49m\u001b[38;5;241;43m.\u001b[39;49m\u001b[43masarray\u001b[49m\u001b[43m(\u001b[49m\u001b[43mkey\u001b[49m\u001b[43m)\u001b[49m\u001b[43m)\u001b[49m\n",
      "File \u001b[0;32m/usr/local/lib/python3.10/dist-packages/xarray/core/dataset.py:1136\u001b[0m, in \u001b[0;36mDataset._copy_listed\u001b[0;34m(self, names)\u001b[0m\n\u001b[1;32m   1134\u001b[0m     variables[name] \u001b[38;5;241m=\u001b[39m \u001b[38;5;28mself\u001b[39m\u001b[38;5;241m.\u001b[39m_variables[name]\n\u001b[1;32m   1135\u001b[0m \u001b[38;5;28;01mexcept\u001b[39;00m \u001b[38;5;167;01mKeyError\u001b[39;00m:\n\u001b[0;32m-> 1136\u001b[0m     ref_name, var_name, var \u001b[38;5;241m=\u001b[39m \u001b[43m_get_virtual_variable\u001b[49m\u001b[43m(\u001b[49m\n\u001b[1;32m   1137\u001b[0m \u001b[43m        \u001b[49m\u001b[38;5;28;43mself\u001b[39;49m\u001b[38;5;241;43m.\u001b[39;49m\u001b[43m_variables\u001b[49m\u001b[43m,\u001b[49m\u001b[43m \u001b[49m\u001b[43mname\u001b[49m\u001b[43m,\u001b[49m\u001b[43m \u001b[49m\u001b[38;5;28;43mself\u001b[39;49m\u001b[38;5;241;43m.\u001b[39;49m\u001b[43m_level_coords\u001b[49m\u001b[43m,\u001b[49m\u001b[43m \u001b[49m\u001b[38;5;28;43mself\u001b[39;49m\u001b[38;5;241;43m.\u001b[39;49m\u001b[43mdims\u001b[49m\n\u001b[1;32m   1138\u001b[0m \u001b[43m    \u001b[49m\u001b[43m)\u001b[49m\n\u001b[1;32m   1139\u001b[0m     variables[var_name] \u001b[38;5;241m=\u001b[39m var\n\u001b[1;32m   1140\u001b[0m     \u001b[38;5;28;01mif\u001b[39;00m ref_name \u001b[38;5;129;01min\u001b[39;00m \u001b[38;5;28mself\u001b[39m\u001b[38;5;241m.\u001b[39m_coord_names \u001b[38;5;129;01mor\u001b[39;00m ref_name \u001b[38;5;129;01min\u001b[39;00m \u001b[38;5;28mself\u001b[39m\u001b[38;5;241m.\u001b[39mdims:\n",
      "File \u001b[0;32m/usr/local/lib/python3.10/dist-packages/xarray/core/dataset.py:171\u001b[0m, in \u001b[0;36m_get_virtual_variable\u001b[0;34m(variables, key, level_vars, dim_sizes)\u001b[0m\n\u001b[1;32m    169\u001b[0m     ref_var \u001b[38;5;241m=\u001b[39m dim_var\u001b[38;5;241m.\u001b[39mto_index_variable()\u001b[38;5;241m.\u001b[39mget_level_variable(ref_name)\n\u001b[1;32m    170\u001b[0m \u001b[38;5;28;01melse\u001b[39;00m:\n\u001b[0;32m--> 171\u001b[0m     ref_var \u001b[38;5;241m=\u001b[39m \u001b[43mvariables\u001b[49m\u001b[43m[\u001b[49m\u001b[43mref_name\u001b[49m\u001b[43m]\u001b[49m\n\u001b[1;32m    173\u001b[0m \u001b[38;5;28;01mif\u001b[39;00m var_name \u001b[38;5;129;01mis\u001b[39;00m \u001b[38;5;28;01mNone\u001b[39;00m:\n\u001b[1;32m    174\u001b[0m     virtual_var \u001b[38;5;241m=\u001b[39m ref_var\n",
      "\u001b[0;31mKeyError\u001b[0m: 'band_1'"
     ]
    }
   ],
   "source": [
    "# Selecione as bandas desejadas\n",
    "rgb_bands = ds[['band_1', 'band_2', 'band_3']]\n",
    "\n",
    "available_times = ds.time.values\n",
    "print(available_times)\n",
    "\n",
    "# Especifique o tempo desejado (por exemplo, o primeiro tempo no conjunto de dados)\n",
    "time_index = 0\n",
    "\n",
    "# Selecione os dados para o tempo específico\n",
    "rgb_data = rgb_bands.isel(time=time_index).to_array().transpose('y', 'x', 'variable')\n",
    "\n",
    "# Aumente o tamanho do plot\n",
    "plt.figure(figsize=(10, 8))  # Ajuste os valores de largura e altura conforme necessário\n",
    "\n",
    "# Plote a imagem RGB\n",
    "rgb_data.plot.imshow(robust=True)\n",
    "plt.title(f'RGB Image at {ds[\"time\"].values[time_index]}')\n",
    "plt.show()\n"
   ]
  },
  {
   "cell_type": "code",
   "execution_count": null,
   "id": "de3ade48",
   "metadata": {},
   "outputs": [],
   "source": []
  },
  {
   "cell_type": "code",
   "execution_count": null,
   "id": "0a60d5cd",
   "metadata": {},
   "outputs": [],
   "source": []
  }
 ],
 "metadata": {
  "kernelspec": {
   "display_name": "Python 3 (ipykernel)",
   "language": "python",
   "name": "python3"
  },
  "language_info": {
   "codemirror_mode": {
    "name": "ipython",
    "version": 3
   },
   "file_extension": ".py",
   "mimetype": "text/x-python",
   "name": "python",
   "nbconvert_exporter": "python",
   "pygments_lexer": "ipython3",
   "version": "3.10.12"
  }
 },
 "nbformat": 4,
 "nbformat_minor": 5
}

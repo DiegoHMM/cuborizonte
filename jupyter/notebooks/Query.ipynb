{
 "cells": [
  {
   "cell_type": "code",
   "execution_count": null,
   "id": "8c677fec",
   "metadata": {},
   "outputs": [],
   "source": [
    "import datacube\n",
    "import matplotlib.pyplot as plt\n",
    "\n",
    "product_name = 'aerial_image_1999'\n",
    "\n",
    "query = {\n",
    "    'time': ('1999-01-01', '2004-12-31'),\n",
    "    'latitude': ( -19.909769510495842, -19.937043958977434),\n",
    "    'longitude': ( -43.9339828491211, -43.96745681762696),\n",
    "}\n",
    "\n",
    "bands = ['band_1', 'band_2', 'band_3'] \n"
   ]
  },
  {
   "cell_type": "code",
   "execution_count": null,
   "id": "0f0c91c0",
   "metadata": {},
   "outputs": [],
   "source": [
    "\n",
    "\n",
    "dc = datacube.Datacube()\n",
    "dc.index.products.get_by_name(product_name)\n",
    "\n",
    "\n",
    "output_crs = 'EPSG:29193'\n",
    "resolution=(-0.399711, 0.399711)\n",
    "\n",
    "ds = dc.load(product=product_name, output_crs=output_crs, resolution=resolution, **query)\n",
    "\n",
    "print(ds)\n"
   ]
  },
  {
   "cell_type": "code",
   "execution_count": null,
   "id": "85b751a0",
   "metadata": {},
   "outputs": [],
   "source": [
    "# Selecione as bandas desejadas\n",
    "rgb_bands = ds[['band_1', 'band_2', 'band_3']]\n",
    "\n",
    "available_times = ds.time.values\n",
    "print(available_times)\n",
    "\n",
    "# Especifique o tempo desejado (por exemplo, o primeiro tempo no conjunto de dados)\n",
    "time_index = 0\n",
    "\n",
    "# Selecione os dados para o tempo específico\n",
    "rgb_data = rgb_bands.isel(time=time_index).to_array().transpose('y', 'x', 'variable')\n",
    "\n",
    "# Aumente o tamanho do plot\n",
    "plt.figure(figsize=(10, 8))  # Ajuste os valores de largura e altura conforme necessário\n",
    "\n",
    "# Plote a imagem RGB\n",
    "rgb_data.plot.imshow(robust=True)\n",
    "plt.title(f'RGB Image at {ds[\"time\"].values[time_index]}')\n",
    "plt.show()\n"
   ]
  },
  {
   "cell_type": "code",
   "execution_count": null,
   "id": "de3ade48",
   "metadata": {},
   "outputs": [],
   "source": []
  },
  {
   "cell_type": "code",
   "execution_count": null,
   "id": "0a60d5cd",
   "metadata": {},
   "outputs": [],
   "source": []
  }
 ],
 "metadata": {
  "kernelspec": {
   "display_name": "Python 3 (ipykernel)",
   "language": "python",
   "name": "python3"
  },
  "language_info": {
   "codemirror_mode": {
    "name": "ipython",
    "version": 3
   },
   "file_extension": ".py",
   "mimetype": "text/x-python",
   "name": "python",
   "nbconvert_exporter": "python",
   "pygments_lexer": "ipython3",
   "version": "3.10.12"
  }
 },
 "nbformat": 4,
 "nbformat_minor": 5
}
